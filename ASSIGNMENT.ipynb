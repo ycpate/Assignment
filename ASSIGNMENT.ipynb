{
 "cells": [
  {
   "cell_type": "code",
   "execution_count": null,
   "id": "f17b8dc2",
   "metadata": {},
   "outputs": [],
   "source": [
    "#1. Write a python program to sum of the first n positive integers.\n",
    "\n",
    "n = int(input(\"Input a number: \"))\n",
    "sum_num = (n * (n + 1)) / 2\n",
    "print(\"Sum of the first\", n ,\"positive integers:\", sum_num)\n"
   ]
  },
  {
   "cell_type": "code",
   "execution_count": null,
   "id": "63b699f6",
   "metadata": {},
   "outputs": [],
   "source": [
    "#2. Write a Python program to count occurrences of a substring in a string.\n",
    "\n",
    "str1 = \"The quick brown fox jumps over the lazy dog\".\n",
    "print(str1.count(\"fox\"))"
   ]
  },
  {
   "cell_type": "code",
   "execution_count": null,
   "id": "2013890b",
   "metadata": {},
   "outputs": [],
   "source": [
    "#3. Write a Python program to count the occurrences of each word in a given sentence.\n",
    "\n",
    "def word_count(str):\n",
    "    counts = dict()\n",
    "    words = str.split()\n",
    "\n",
    "    for word in words:\n",
    "        if word in counts:\n",
    "            counts[word] += 1\n",
    "        else:\n",
    "            counts[word] = 1\n",
    "\n",
    "    return counts\n",
    "\n",
    "print( word_count('the quick brown fox jumps over the lazy dog.'))\n"
   ]
  },
  {
   "cell_type": "code",
   "execution_count": null,
   "id": "1cf7e168",
   "metadata": {},
   "outputs": [],
   "source": [
    "#4. Write a Python program to get a single string from two given strings, separated by a space and swap the first \n",
    "    #two characters of each string. \n",
    "\n",
    "def chars_mix_up(a, b):\n",
    "  new_a = b[:2] + a[2:]\n",
    "  new_b = a[:2] + b[2:]\n",
    "\n",
    "  return new_a + ' ' + new_b\n",
    "print(chars_mix_up('abc', 'xyz'))\n",
    "\n"
   ]
  },
  {
   "cell_type": "code",
   "execution_count": null,
   "id": "82698c4a",
   "metadata": {},
   "outputs": [],
   "source": [
    "#5. Write a Python program to add 'ing' at the end of a given string (length should be at least 3). \n",
    "   #If the given string already ends with 'ing' then add 'ly' instead If the string length of the given \n",
    "    #string is less than 3, leave it unchanged \n",
    "\n",
    "   \n",
    "   \n",
    "def add_string(str1):\n",
    "  length = len(str1)\n",
    "\n",
    "  if length > 2:\n",
    "    if str1[-3:] == 'ing':\n",
    "      str1 += 'ly'\n",
    "    else:\n",
    "      str1 += 'ing'\n",
    "\n",
    "  return str1\n",
    "print(add_string('ab'))\n",
    "print(add_string('abc'))\n",
    "print(add_string('string'))\n"
   ]
  },
  {
   "cell_type": "code",
   "execution_count": null,
   "id": "9c64608d",
   "metadata": {},
   "outputs": [],
   "source": [
    "#6. Write a Python program to find the first appearance of the substring 'not' and 'poor' from a given string, if \n",
    "   #'not' follows the 'poor', replace the whole 'not'...'poor' substring with 'good'. \n",
    "    #Return the resulting string\n",
    "\n",
    "    \n",
    "def not_poor(str1):\n",
    "  snot = str1.find('not')\n",
    "  spoor = str1.find('poor')\n",
    "  \n",
    "\n",
    "  if spoor > snot and snot>0 and spoor>0:\n",
    "    str1 = str1.replace(str1[snot:(spoor+4)], 'good')\n",
    "    return str1\n",
    "  else:\n",
    "    return str1\n",
    "print(not_poor('The lyrics is not that poor!'))\n",
    "print(not_poor('The lyrics is poor!'))\n"
   ]
  },
  {
   "cell_type": "code",
   "execution_count": null,
   "id": "7e95c522",
   "metadata": {},
   "outputs": [],
   "source": [
    "#7.Program to find Greatest Common Divisor of two numbers For example, the GCD of 20 and 28 is 4 and GCD of 98 and 56 is 14.\n",
    "\n",
    "\n"
   ]
  },
  {
   "cell_type": "code",
   "execution_count": null,
   "id": "ed1c4ea6",
   "metadata": {},
   "outputs": [],
   "source": [
    "#8. Write a Python program to check whether a list contains a sublist.\n",
    "\n",
    "def is_Sublist(l, s):\n",
    "    sub_set = False\n",
    "    if s == []:\n",
    "    sub_set = True\n",
    "    elif s == l:\n",
    "    sub_set = True\n",
    "    elif len(s) > len(l):\n",
    "    sub_set = False\n",
    "\n",
    "    else:\n",
    "        for i in range(len(l)):\n",
    "             if l[i] == s[0]:\n",
    "                n = 1\n",
    "                while (n < len(s)) and (l[i+n] == s[n]):\n",
    "                    n += 1\n",
    "\n",
    "                if n == len(s):\n",
    "                sub_set = True\n",
    "\n",
    "    return sub_set\n",
    "\n",
    "a = [2,4,3,5,7]\n",
    "b = [4,3]\n",
    "c = [3,7]\n",
    "print(is_Sublist(a, b))\n",
    "print(is_Sublist(a, c))\n",
    "\n",
    "\n"
   ]
  },
  {
   "cell_type": "code",
   "execution_count": null,
   "id": "b22dd7fa",
   "metadata": {},
   "outputs": [],
   "source": [
    "#9. Write a Python program to find the second smallest number in a list. \n",
    "\n",
    "def second_smallest(numbers):\n",
    "  if (len(numbers)<2):\n",
    "    return\n",
    "  if ((len(numbers)==2)  and (numbers[0] == numbers[1]) ):\n",
    "    return\n",
    "  dup_items = set()\n",
    "  uniq_items = []\n",
    "  for x in numbers:\n",
    "    if x not in dup_items:\n",
    "      uniq_items.append(x)\n",
    "      dup_items.add(x)\n",
    "  uniq_items.sort()    \n",
    "  return  uniq_items[1]   \n",
    "\n",
    "print(second_smallest([1, 2, -8, -2, 0, -2]))\n",
    "print(second_smallest([1, 1, 0, 0, 2, -2, -2]))\n",
    "print(second_smallest([1, 1, 1, 0, 0, 0, 2, -2, -2]))\n",
    "print(second_smallest([2,2]))\n",
    "print(second_smallest([2]))\n"
   ]
  },
  {
   "cell_type": "code",
   "execution_count": null,
   "id": "708e2827",
   "metadata": {},
   "outputs": [],
   "source": [
    "#10. Write a Python program to get unique values from a list.\n",
    "\n",
    "my_list = [10, 20, 30, 40, 20, 50, 60, 40]\n",
    "print(\"Original List : \",my_list)\n",
    "my_set = set(my_list)\n",
    "my_new_list = list(my_set)\n",
    "print(\"List of unique numbers : \",my_new_list)\n"
   ]
  },
  {
   "cell_type": "code",
   "execution_count": null,
   "id": "f382f671",
   "metadata": {},
   "outputs": [],
   "source": [
    "#11. Write a Python program to unzip a list of tuples into individual lists.\n",
    "\n",
    "#create a tuple\n",
    "l = [(1,2), (3,4), (8,9)]\n",
    "print(list(zip(*l)))\n"
   ]
  },
  {
   "cell_type": "code",
   "execution_count": null,
   "id": "4e707b02",
   "metadata": {},
   "outputs": [],
   "source": [
    "#19. Write a Python function that takes a list and returns a new list with unique elements of the first list.\n",
    "\n",
    "def unique_list(l):\n",
    "  x = []\n",
    "  for a in l:\n",
    "    if a not in x:\n",
    "      x.append(a)\n",
    "  return x\n",
    "\n",
    "print(unique_list([1,2,3,3,3,3,4,5])) \n"
   ]
  },
  {
   "cell_type": "code",
   "execution_count": null,
   "id": "47b24206",
   "metadata": {},
   "outputs": [],
   "source": []
  }
 ],
 "metadata": {
  "kernelspec": {
   "display_name": "Python 3 (ipykernel)",
   "language": "python",
   "name": "python3"
  },
  "language_info": {
   "codemirror_mode": {
    "name": "ipython",
    "version": 3
   },
   "file_extension": ".py",
   "mimetype": "text/x-python",
   "name": "python",
   "nbconvert_exporter": "python",
   "pygments_lexer": "ipython3",
   "version": "3.9.12"
  }
 },
 "nbformat": 4,
 "nbformat_minor": 5
}
