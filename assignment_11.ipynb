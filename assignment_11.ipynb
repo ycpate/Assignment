{
 "cells": [
  {
   "cell_type": "code",
   "execution_count": 8,
   "id": "93367bbd",
   "metadata": {},
   "outputs": [
    {
     "name": "stdout",
     "output_type": "stream",
     "text": [
      "{'x': [1, 2, 3], 'y': [1, 2], 'z': [1]}\n"
     ]
    }
   ],
   "source": [
    "#12. Write a Python program to convert a list of tuples into a dictionary\n",
    "\n",
    "l = [(\"x\", 1), (\"x\", 2), (\"x\", 3), (\"y\", 1), (\"y\", 2), (\"z\", 1)]\n",
    "d = {}\n",
    "for a, b in l:\n",
    "    d.setdefault(a, []).append(b)\n",
    "print (d)\n",
    "\n",
    "\n",
    "\n"
   ]
  },
  {
   "cell_type": "code",
   "execution_count": 5,
   "id": "38698b3e",
   "metadata": {},
   "outputs": [
    {
     "name": "stdout",
     "output_type": "stream",
     "text": [
      "Original dictionary :  {1: 2, 3: 4, 4: 3, 2: 1, 0: 0}\n",
      "Dictionary in ascending order by value :  [(0, 0), (2, 1), (1, 2), (4, 3), (3, 4)]\n",
      "Dictionary in descending order by value :  {3: 4, 4: 3, 1: 2, 2: 1, 0: 0}\n"
     ]
    }
   ],
   "source": [
    "#13. Write a Python program to sort a dictionary (ascending /descending) by value.\n",
    "\n",
    "import operator\n",
    "d = {1: 2, 3: 4, 4: 3, 2: 1, 0: 0}\n",
    "print('Original dictionary : ',d)\n",
    "sorted_d = sorted(d.items(), key=operator.itemgetter(1))\n",
    "print('Dictionary in ascending order by value : ',sorted_d)\n",
    "sorted_d = dict( sorted(d.items(), key=operator.itemgetter(1),reverse=True))\n",
    "print('Dictionary in descending order by value : ',sorted_d)\n",
    "\n",
    "\n"
   ]
  },
  {
   "cell_type": "code",
   "execution_count": 7,
   "id": "72b2b0be",
   "metadata": {},
   "outputs": [
    {
     "name": "stdout",
     "output_type": "stream",
     "text": [
      "['b', 'e', 'c']\n"
     ]
    }
   ],
   "source": [
    "#14. Write a Python program to find the highest 3 values in a dictionary.\n",
    "\n",
    "from heapq import nlargest\n",
    "my_dict = {'a':500, 'b':5874, 'c': 560,'d':400, 'e':5874, 'f': 20}  \n",
    "three_largest = nlargest(3, my_dict, key=my_dict.get)\n",
    "print(three_largest) \n",
    "  \n",
    "\n",
    "\n"
   ]
  },
  {
   "cell_type": "code",
   "execution_count": 9,
   "id": "f4cbc81f",
   "metadata": {},
   "outputs": [],
   "source": [
    "#15. Given a number n, write a python program to make and print the list of Fibonacci series up to n.\n",
    "    #Input : n=7 \n",
    "    #Hint : first 7 numbers in the series\n",
    "    #Expected output : \n",
    "    #First few Fibonacci numbers are 0, 1, 1, 2, 3, 5, 8, 13\n"
   ]
  },
  {
   "cell_type": "code",
   "execution_count": 10,
   "id": "98d550cb",
   "metadata": {},
   "outputs": [],
   "source": [
    "#16. Counting the frequencies in a list using a dictionary in Python.\n",
    "    #Input : [1, 1, 1, 5, 5, 3, 1, 3, 3, 1,4, 4, 4, 2, 2, 2, 2]\n",
    "    #Expected output : 1 : 5 , 2 : 4 , 3 : 3 , 4 : 3 , 5 : 2 \n"
   ]
  },
  {
   "cell_type": "code",
   "execution_count": 11,
   "id": "2e032f04",
   "metadata": {},
   "outputs": [],
   "source": [
    "#17. Write a python program using function to find the sum of odd series and even series\n",
    "    #Odd series: 12/ 1! + 32/ 3! + 52/ 5!+……n \n",
    "    #Even series: 22/ 2! + 42/ 4! + 62/ 6!+……n\n",
    "    \n",
    "\n"
   ]
  },
  {
   "cell_type": "code",
   "execution_count": null,
   "id": "a5db98ff",
   "metadata": {},
   "outputs": [],
   "source": [
    "#18. Python Program to Find Factorial of Number Using Recursion\n"
   ]
  }
 ],
 "metadata": {
  "kernelspec": {
   "display_name": "Python 3 (ipykernel)",
   "language": "python",
   "name": "python3"
  },
  "language_info": {
   "codemirror_mode": {
    "name": "ipython",
    "version": 3
   },
   "file_extension": ".py",
   "mimetype": "text/x-python",
   "name": "python",
   "nbconvert_exporter": "python",
   "pygments_lexer": "ipython3",
   "version": "3.9.12"
  }
 },
 "nbformat": 4,
 "nbformat_minor": 5
}
